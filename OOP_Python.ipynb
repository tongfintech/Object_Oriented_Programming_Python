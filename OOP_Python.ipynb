{
 "cells": [
  {
   "cell_type": "markdown",
   "metadata": {},
   "source": [
    "### Part 1: Classes and Instances"
   ]
  },
  {
   "cell_type": "code",
   "execution_count": 28,
   "metadata": {},
   "outputs": [],
   "source": [
    "class Employee:\n",
    "    \n",
    "    def __init__(self, first, last, pay):\n",
    "        self.first = first\n",
    "        self.last = last\n",
    "        self.pay = pay\n",
    "        self.email = f\"{first}{last[0]}@xiver.com\"\n",
    "        \n",
    "    def fullname(self):\n",
    "        return f\"{self.first} {self.last}\""
   ]
  },
  {
   "cell_type": "code",
   "execution_count": 29,
   "metadata": {},
   "outputs": [],
   "source": [
    "emp_1 = Employee('Wilson', 'Liu', 100000)\n",
    "emp_2 = Employee('Christina', 'Meng', 60000)"
   ]
  },
  {
   "cell_type": "code",
   "execution_count": 30,
   "metadata": {},
   "outputs": [
    {
     "data": {
      "text/plain": [
       "'WilsonL@xiver.com'"
      ]
     },
     "execution_count": 30,
     "metadata": {},
     "output_type": "execute_result"
    }
   ],
   "source": [
    "emp_1.email"
   ]
  },
  {
   "cell_type": "code",
   "execution_count": 31,
   "metadata": {},
   "outputs": [
    {
     "name": "stdout",
     "output_type": "stream",
     "text": [
      "WilsonL@xiver.com\n",
      "ChristinaM@xiver.com\n"
     ]
    }
   ],
   "source": [
    "print(emp_1.email)\n",
    "print(emp_2.email)"
   ]
  },
  {
   "cell_type": "code",
   "execution_count": 32,
   "metadata": {},
   "outputs": [
    {
     "name": "stdout",
     "output_type": "stream",
     "text": [
      "Wilson Liu\n",
      "Wilson Liu\n"
     ]
    }
   ],
   "source": [
    "print(emp_1.fullname())\n",
    "print(Employee.fullname(emp_1))"
   ]
  },
  {
   "cell_type": "code",
   "execution_count": null,
   "metadata": {},
   "outputs": [],
   "source": []
  },
  {
   "cell_type": "markdown",
   "metadata": {},
   "source": [
    "### Part 2: Classe Variables"
   ]
  },
  {
   "cell_type": "code",
   "execution_count": 76,
   "metadata": {},
   "outputs": [],
   "source": [
    "class Employee:\n",
    "    \n",
    "    num_of_emps = 0\n",
    "    raise_amount = 1.04\n",
    "    \n",
    "    def __init__(self, first, last, pay):\n",
    "        self.first = first\n",
    "        self.last = last\n",
    "        self.pay = pay\n",
    "        self.email = f\"{first}{last[0]}@xiver.com\"\n",
    "        \n",
    "        Employee.num_of_emps += 1\n",
    "        \n",
    "    def fullname(self):\n",
    "        return f\"{self.first} {self.last}\"\n",
    "    \n",
    "    def apply_raise(self):\n",
    "        self.pay = int(self.pay * self.raise_amount)"
   ]
  },
  {
   "cell_type": "code",
   "execution_count": 77,
   "metadata": {},
   "outputs": [
    {
     "name": "stdout",
     "output_type": "stream",
     "text": [
      "0\n"
     ]
    }
   ],
   "source": [
    "print(Employee.num_of_emps)"
   ]
  },
  {
   "cell_type": "code",
   "execution_count": 78,
   "metadata": {},
   "outputs": [],
   "source": [
    "emp_1 = Employee('Wilson', 'Liu', 100000)\n",
    "emp_2 = Employee('Christina', 'Meng', 60000)"
   ]
  },
  {
   "cell_type": "code",
   "execution_count": 79,
   "metadata": {},
   "outputs": [
    {
     "name": "stdout",
     "output_type": "stream",
     "text": [
      "{'first': 'Wilson', 'last': 'Liu', 'pay': 100000, 'email': 'WilsonL@xiver.com'}\n",
      "\n",
      "{'__module__': '__main__', 'num_of_emps': 2, 'raise_amount': 1.04, '__init__': <function Employee.__init__ at 0x10f506d90>, 'fullname': <function Employee.fullname at 0x10f522048>, 'apply_raise': <function Employee.apply_raise at 0x10f5220d0>, '__dict__': <attribute '__dict__' of 'Employee' objects>, '__weakref__': <attribute '__weakref__' of 'Employee' objects>, '__doc__': None}\n",
      "\n",
      "1.04\n",
      "1.04\n",
      "1.04\n"
     ]
    }
   ],
   "source": [
    "print(emp_1.__dict__)\n",
    "print('')\n",
    "print(Employee.__dict__)\n",
    "print('')\n",
    "print(Employee.raise_amount)\n",
    "print(emp_1.raise_amount)\n",
    "print(emp_2.raise_amount)"
   ]
  },
  {
   "cell_type": "code",
   "execution_count": 80,
   "metadata": {},
   "outputs": [
    {
     "name": "stdout",
     "output_type": "stream",
     "text": [
      "1.05\n",
      "1.05\n",
      "1.05\n"
     ]
    }
   ],
   "source": [
    "Employee.raise_amount = 1.05\n",
    "\n",
    "print(Employee.raise_amount)\n",
    "print(emp_1.raise_amount)\n",
    "print(emp_2.raise_amount)"
   ]
  },
  {
   "cell_type": "code",
   "execution_count": 81,
   "metadata": {},
   "outputs": [
    {
     "name": "stdout",
     "output_type": "stream",
     "text": [
      "{'first': 'Wilson', 'last': 'Liu', 'pay': 100000, 'email': 'WilsonL@xiver.com', 'raise_amount': 1.06}\n",
      "\n",
      "{'__module__': '__main__', 'num_of_emps': 2, 'raise_amount': 1.05, '__init__': <function Employee.__init__ at 0x10f506d90>, 'fullname': <function Employee.fullname at 0x10f522048>, 'apply_raise': <function Employee.apply_raise at 0x10f5220d0>, '__dict__': <attribute '__dict__' of 'Employee' objects>, '__weakref__': <attribute '__weakref__' of 'Employee' objects>, '__doc__': None}\n",
      "\n",
      "1.05\n",
      "1.06\n",
      "1.05\n"
     ]
    }
   ],
   "source": [
    "emp_1.raise_amount = 1.06\n",
    "\n",
    "print(emp_1.__dict__)\n",
    "print('')\n",
    "print(Employee.__dict__)\n",
    "print('')\n",
    "print(Employee.raise_amount)\n",
    "print(emp_1.raise_amount)\n",
    "print(emp_2.raise_amount)"
   ]
  },
  {
   "cell_type": "code",
   "execution_count": 82,
   "metadata": {},
   "outputs": [
    {
     "name": "stdout",
     "output_type": "stream",
     "text": [
      "2\n"
     ]
    }
   ],
   "source": [
    "print(Employee.num_of_emps)"
   ]
  },
  {
   "cell_type": "code",
   "execution_count": null,
   "metadata": {},
   "outputs": [],
   "source": []
  },
  {
   "cell_type": "markdown",
   "metadata": {},
   "source": [
    "### Part 3: Classmethods and Staticmethods"
   ]
  },
  {
   "cell_type": "code",
   "execution_count": 117,
   "metadata": {},
   "outputs": [],
   "source": [
    "class Employee:\n",
    "    \n",
    "    num_of_emps = 0 \n",
    "    raise_amt = 1.04\n",
    "    \n",
    "    def __init__(self, first, last, pay):\n",
    "        self.first = first\n",
    "        self.last = last\n",
    "        self.pay = pay\n",
    "        self.email = f\"{first}{last[0]}@xiver.com\"\n",
    "        \n",
    "        Employee.num_of_emps += 1\n",
    "        \n",
    "    def fullname(self):\n",
    "        return '{} {}'.format(self.first, self.last)\n",
    "    \n",
    "    def apply_raise(self):\n",
    "        self.pay = int(self.pay * self.raise_amt)\n",
    "        \n",
    "    @classmethod\n",
    "    def set_raise_amt(cls, amount):\n",
    "        cls.raise_amt = amount\n",
    "    \n",
    "    @classmethod\n",
    "    def from_string(cls, emp_str):\n",
    "        first, last, pay = emp_str_1.split('-')\n",
    "        return cls(first, last, pay)\n",
    "    \n",
    "    @staticmethod\n",
    "    def is_workday(day):\n",
    "        if day.weekday() == 5 or day.weekday() == 6:\n",
    "            return False\n",
    "        return True"
   ]
  },
  {
   "cell_type": "code",
   "execution_count": 118,
   "metadata": {},
   "outputs": [],
   "source": [
    "emp_1 = Employee('Wilson', 'Liu', 100000)\n",
    "emp_2 = Employee('Christina', 'Meng', 60000)"
   ]
  },
  {
   "cell_type": "code",
   "execution_count": 119,
   "metadata": {},
   "outputs": [
    {
     "name": "stdout",
     "output_type": "stream",
     "text": [
      "1.04\n",
      "1.04\n",
      "1.04\n"
     ]
    }
   ],
   "source": [
    "print(Employee.raise_amt)\n",
    "print(emp_1.raise_amt)\n",
    "print(emp_2.raise_amt)"
   ]
  },
  {
   "cell_type": "code",
   "execution_count": 120,
   "metadata": {},
   "outputs": [],
   "source": [
    "Employee.set_raise_amt(1.05)"
   ]
  },
  {
   "cell_type": "code",
   "execution_count": 121,
   "metadata": {},
   "outputs": [
    {
     "name": "stdout",
     "output_type": "stream",
     "text": [
      "1.05\n",
      "1.05\n",
      "1.05\n"
     ]
    }
   ],
   "source": [
    "print(Employee.raise_amt)\n",
    "print(emp_1.raise_amt)\n",
    "print(emp_2.raise_amt)"
   ]
  },
  {
   "cell_type": "code",
   "execution_count": 122,
   "metadata": {},
   "outputs": [],
   "source": [
    "emp_str_1 = 'John-Doe-70000'\n",
    "emp_str_2 = 'Steve-Smith-30000'\n",
    "emp_str_3 = 'Jane-Doe-90000'"
   ]
  },
  {
   "cell_type": "code",
   "execution_count": 123,
   "metadata": {},
   "outputs": [],
   "source": [
    "new_emp_1 = Employee.from_string(emp_str_1)"
   ]
  },
  {
   "cell_type": "code",
   "execution_count": 124,
   "metadata": {},
   "outputs": [
    {
     "name": "stdout",
     "output_type": "stream",
     "text": [
      "JohnD@xiver.com\n",
      "70000\n"
     ]
    }
   ],
   "source": [
    "print(new_emp_1.email)\n",
    "print(new_emp_1.pay)"
   ]
  },
  {
   "cell_type": "code",
   "execution_count": 125,
   "metadata": {},
   "outputs": [
    {
     "name": "stdout",
     "output_type": "stream",
     "text": [
      "False\n"
     ]
    }
   ],
   "source": [
    "import datetime\n",
    "my_date = datetime.date(2016, 7, 10)\n",
    "\n",
    "print(Employee.is_workday(my_date))"
   ]
  },
  {
   "cell_type": "code",
   "execution_count": null,
   "metadata": {},
   "outputs": [],
   "source": []
  },
  {
   "cell_type": "markdown",
   "metadata": {},
   "source": [
    " ### Part 4: Inheritance - Creating Subclasses"
   ]
  },
  {
   "cell_type": "code",
   "execution_count": 158,
   "metadata": {},
   "outputs": [],
   "source": [
    "class Employee:\n",
    "    \n",
    "    num_of_emps = 0 \n",
    "    raise_amt = 1.04\n",
    "    \n",
    "    def __init__(self, first, last, pay):\n",
    "        self.first = first\n",
    "        self.last = last\n",
    "        self.pay = pay\n",
    "        self.email = f\"{first}{last[0]}@xiver.com\"\n",
    "        \n",
    "        Employee.num_of_emps += 1\n",
    "        \n",
    "    def fullname(self):\n",
    "        return '{} {}'.format(self.first, self.last)\n",
    "    \n",
    "    def apply_raise(self):\n",
    "        self.pay = int(self.pay * self.raise_amt)\n",
    "\n",
    "class Developer(Employee):\n",
    "    pass"
   ]
  },
  {
   "cell_type": "code",
   "execution_count": 159,
   "metadata": {},
   "outputs": [],
   "source": [
    "dev_1 = Developer('Wilson', 'Liu', 100000)\n",
    "dev_2 = Developer('Christina', 'Meng', 100000)"
   ]
  },
  {
   "cell_type": "code",
   "execution_count": 160,
   "metadata": {},
   "outputs": [
    {
     "name": "stdout",
     "output_type": "stream",
     "text": [
      "2\n",
      "WilsonL@xiver.com\n",
      "ChristinaM@xiver.com\n"
     ]
    }
   ],
   "source": [
    "print(Employee.num_of_emps)\n",
    "print(dev_1.email)\n",
    "print(dev_2.email)"
   ]
  },
  {
   "cell_type": "code",
   "execution_count": 161,
   "metadata": {},
   "outputs": [
    {
     "name": "stdout",
     "output_type": "stream",
     "text": [
      "Help on class Developer in module __main__:\n",
      "\n",
      "class Developer(Employee)\n",
      " |  Developer(first, last, pay)\n",
      " |  \n",
      " |  Method resolution order:\n",
      " |      Developer\n",
      " |      Employee\n",
      " |      builtins.object\n",
      " |  \n",
      " |  Methods inherited from Employee:\n",
      " |  \n",
      " |  __init__(self, first, last, pay)\n",
      " |      Initialize self.  See help(type(self)) for accurate signature.\n",
      " |  \n",
      " |  apply_raise(self)\n",
      " |  \n",
      " |  fullname(self)\n",
      " |  \n",
      " |  ----------------------------------------------------------------------\n",
      " |  Data descriptors inherited from Employee:\n",
      " |  \n",
      " |  __dict__\n",
      " |      dictionary for instance variables (if defined)\n",
      " |  \n",
      " |  __weakref__\n",
      " |      list of weak references to the object (if defined)\n",
      " |  \n",
      " |  ----------------------------------------------------------------------\n",
      " |  Data and other attributes inherited from Employee:\n",
      " |  \n",
      " |  num_of_emps = 2\n",
      " |  \n",
      " |  raise_amt = 1.04\n",
      "\n",
      "None\n"
     ]
    }
   ],
   "source": [
    "print(help(Developer))"
   ]
  },
  {
   "cell_type": "code",
   "execution_count": 162,
   "metadata": {},
   "outputs": [
    {
     "name": "stdout",
     "output_type": "stream",
     "text": [
      "100000\n",
      "104000\n"
     ]
    }
   ],
   "source": [
    "print(dev_1.pay)\n",
    "dev_1.apply_raise()\n",
    "print(dev_1.pay)"
   ]
  },
  {
   "cell_type": "code",
   "execution_count": 166,
   "metadata": {},
   "outputs": [],
   "source": [
    "class Employee:\n",
    "    \n",
    "    num_of_emps = 0 \n",
    "    raise_amt = 1.04\n",
    "    \n",
    "    def __init__(self, first, last, pay):\n",
    "        self.first = first\n",
    "        self.last = last\n",
    "        self.pay = pay\n",
    "        self.email = f\"{first}{last[0]}@xiver.com\"\n",
    "        \n",
    "        Employee.num_of_emps += 1\n",
    "        \n",
    "    def fullname(self):\n",
    "        return '{} {}'.format(self.first, self.last)\n",
    "    \n",
    "    def apply_raise(self):\n",
    "        self.pay = int(self.pay * self.raise_amt)\n",
    "\n",
    "class Developer(Employee):\n",
    "    raise_amt = 1.05"
   ]
  },
  {
   "cell_type": "code",
   "execution_count": 172,
   "metadata": {},
   "outputs": [],
   "source": [
    "dev_1 = Employee('Wilson', 'Liu', 100000)\n",
    "dev_2 = Developer('Christina', 'Meng', 100000)"
   ]
  },
  {
   "cell_type": "code",
   "execution_count": 173,
   "metadata": {},
   "outputs": [
    {
     "name": "stdout",
     "output_type": "stream",
     "text": [
      "100000\n",
      "104000\n",
      "100000\n",
      "105000\n"
     ]
    }
   ],
   "source": [
    "print(dev_1.pay)\n",
    "dev_1.apply_raise()\n",
    "print(dev_1.pay)\n",
    "\n",
    "print(dev_2.pay)\n",
    "dev_2.apply_raise()\n",
    "print(dev_2.pay)"
   ]
  },
  {
   "cell_type": "code",
   "execution_count": 197,
   "metadata": {},
   "outputs": [],
   "source": [
    "class Employee:\n",
    "    \n",
    "    num_of_emps = 0 \n",
    "    raise_amt = 1.04\n",
    "    \n",
    "    def __init__(self, first, last, pay):\n",
    "        self.first = first\n",
    "        self.last = last\n",
    "        self.pay = pay\n",
    "        self.email = f\"{first}{last[0]}@xiver.com\"\n",
    "        \n",
    "        Employee.num_of_emps += 1\n",
    "        \n",
    "    def fullname(self):\n",
    "        return '{} {}'.format(self.first, self.last)\n",
    "    \n",
    "    def apply_raise(self):\n",
    "        self.pay = int(self.pay * self.raise_amt)\n",
    "\n",
    "class Developer(Employee):\n",
    "    def __init__(self, first, last, pay, prog_lang):\n",
    "        super().__init__(first, last, pay)\n",
    "        # Employee.__init__(self, first, last, pay)\n",
    "        self.prog_lang = prog_lang\n",
    "\n",
    "class Manager(Employee):\n",
    "    def __init__(self, first, last, pay, employees=None):\n",
    "        super().__init__(first, last, pay)\n",
    "        if employees is None:\n",
    "            self.employees = []\n",
    "        else:\n",
    "            self.employees = employees\n",
    "    \n",
    "    def add_emp(self, emp):\n",
    "        if emp not in self.employees:\n",
    "            self.employees.append(emp)\n",
    "    \n",
    "    def remove_emp(self, emp):\n",
    "        if emp in self.employees:\n",
    "            self.employees.remove(emp)\n",
    "    \n",
    "    def print_emp(self):\n",
    "        for emp in self.employees:\n",
    "            print('-->', emp.fullname())"
   ]
  },
  {
   "cell_type": "code",
   "execution_count": 198,
   "metadata": {},
   "outputs": [],
   "source": [
    "dev_1 = Developer('Wilson', 'Liu', 100000, 'Python')\n",
    "dev_2 = Developer('Christina', 'Meng', 100000, 'Java')"
   ]
  },
  {
   "cell_type": "code",
   "execution_count": 199,
   "metadata": {},
   "outputs": [
    {
     "name": "stdout",
     "output_type": "stream",
     "text": [
      "WilsonL@xiver.com\n",
      "Python\n"
     ]
    }
   ],
   "source": [
    "print(dev_1.email)\n",
    "print(dev_1.prog_lang)"
   ]
  },
  {
   "cell_type": "code",
   "execution_count": 200,
   "metadata": {},
   "outputs": [],
   "source": [
    "mgr_1 = Manager('Yao', 'Meng', 100000, [dev_1])"
   ]
  },
  {
   "cell_type": "code",
   "execution_count": 201,
   "metadata": {},
   "outputs": [
    {
     "data": {
      "text/plain": [
       "<__main__.Manager at 0x10f533d68>"
      ]
     },
     "execution_count": 201,
     "metadata": {},
     "output_type": "execute_result"
    }
   ],
   "source": [
    "mgr_1"
   ]
  },
  {
   "cell_type": "code",
   "execution_count": 209,
   "metadata": {},
   "outputs": [
    {
     "name": "stdout",
     "output_type": "stream",
     "text": [
      "--> Wilson Liu\n",
      "--> Christina Meng\n"
     ]
    }
   ],
   "source": [
    "mgr_1.add_emp(dev_1)\n",
    "mgr_1.add_emp(dev_2)\n",
    "mgr_1.print_emp()"
   ]
  },
  {
   "cell_type": "code",
   "execution_count": 210,
   "metadata": {},
   "outputs": [
    {
     "name": "stdout",
     "output_type": "stream",
     "text": [
      "--> Wilson Liu\n"
     ]
    }
   ],
   "source": [
    "mgr_1.remove_emp(dev_2)\n",
    "mgr_1.print_emp()"
   ]
  },
  {
   "cell_type": "code",
   "execution_count": 212,
   "metadata": {},
   "outputs": [],
   "source": [
    "emp_1 = Employee('John', 'Doe', 70000)\n",
    "emp_2 = Employee('Steve', 'Smith', 30000)\n",
    "emp_3 = Employee('Jane', 'Doe', 90000)"
   ]
  },
  {
   "cell_type": "code",
   "execution_count": 213,
   "metadata": {},
   "outputs": [],
   "source": [
    "mrg_2 = Manager('Cao', 'Cao', 200000, [emp_1, emp_2, emp_3, mgr_1])"
   ]
  },
  {
   "cell_type": "code",
   "execution_count": 215,
   "metadata": {},
   "outputs": [
    {
     "name": "stdout",
     "output_type": "stream",
     "text": [
      "--> John Doe\n",
      "--> Steve Smith\n",
      "--> Jane Doe\n",
      "--> Yao Meng\n"
     ]
    }
   ],
   "source": [
    "mrg_2.print_emp()"
   ]
  },
  {
   "cell_type": "code",
   "execution_count": 219,
   "metadata": {},
   "outputs": [
    {
     "name": "stdout",
     "output_type": "stream",
     "text": [
      "True\n",
      "True\n",
      "False\n"
     ]
    }
   ],
   "source": [
    "print(isinstance(mgr_1, Manager))\n",
    "print(isinstance(mgr_1, Employee))\n",
    "print(isinstance(mgr_1, Developer))"
   ]
  },
  {
   "cell_type": "code",
   "execution_count": 221,
   "metadata": {},
   "outputs": [
    {
     "name": "stdout",
     "output_type": "stream",
     "text": [
      "True\n",
      "True\n",
      "False\n"
     ]
    }
   ],
   "source": [
    "print(issubclass(Developer, Employee))\n",
    "print(issubclass(Manager, Employee))\n",
    "print(issubclass(Manager, Developer))"
   ]
  },
  {
   "cell_type": "code",
   "execution_count": null,
   "metadata": {},
   "outputs": [],
   "source": []
  }
 ],
 "metadata": {
  "kernelspec": {
   "display_name": "Python 3",
   "language": "python",
   "name": "python3"
  },
  "language_info": {
   "codemirror_mode": {
    "name": "ipython",
    "version": 3
   },
   "file_extension": ".py",
   "mimetype": "text/x-python",
   "name": "python",
   "nbconvert_exporter": "python",
   "pygments_lexer": "ipython3",
   "version": "3.7.3"
  }
 },
 "nbformat": 4,
 "nbformat_minor": 2
}
